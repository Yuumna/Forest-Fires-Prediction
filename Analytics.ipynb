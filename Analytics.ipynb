{
  "nbformat": 4,
  "nbformat_minor": 0,
  "metadata": {
    "colab": {
      "name": "Analytics.ipynb",
      "provenance": [],
      "collapsed_sections": []
    },
    "kernelspec": {
      "name": "python3",
      "display_name": "Python 3"
    }
  },
  "cells": [
    {
      "cell_type": "markdown",
      "metadata": {
        "id": "XIMgi4M5e-Hq"
      },
      "source": [
        "#Imports"
      ]
    },
    {
      "cell_type": "code",
      "metadata": {
        "id": "8zzncAHPfEDu"
      },
      "source": [
        "# data ETL\n",
        "import numpy as np\n",
        "import pandas as pd\n",
        "import matplotlib.pyplot as plt\n",
        "import seaborn as sns\n",
        "!pip install -q kaggle #to import Kaggle dataset\n",
        "import calendar\n",
        "\n",
        "\n",
        "# ML suff\n",
        "from sklearn.preprocessing import StandardScaler\n",
        "from sklearn.model_selection import train_test_split\n",
        "from sklearn.naive_bayes import GaussianNB\n",
        "from scipy.stats import zscore\n",
        "from sklearn.linear_model import LinearRegression, LogisticRegression\n",
        "from sklearn.neural_network import MLPRegressor, MLPClassifier\n",
        "from sklearn.pipeline import make_pipeline\n",
        "from sklearn.decomposition import PCA\n",
        "\n",
        "\n",
        "# metrics\n",
        "from sklearn.metrics import confusion_matrix,auc,roc_auc_score\n",
        "from sklearn.metrics import recall_score, precision_score, accuracy_score, f1_score\n",
        "from sklearn.metrics import explained_variance_score\n",
        "from sklearn import metrics\n",
        "from sklearn.metrics import mean_absolute_error"
      ],
      "execution_count": null,
      "outputs": []
    },
    {
      "cell_type": "markdown",
      "metadata": {
        "id": "lO8kMUgbfEeM"
      },
      "source": [
        "#Load data from Kaggle "
      ]
    },
    {
      "cell_type": "markdown",
      "metadata": {
        "id": "XAk14_ZEfq64"
      },
      "source": [
        "dataset `amazon.csv` and columns description => https://www.kaggle.com/elikplim/forest-fires-data-set"
      ]
    },
    {
      "cell_type": "code",
      "metadata": {
        "id": "aHdaunZu02K6"
      },
      "source": [
        "#make directory to store kaggle credintials\n",
        "!mkdir -p ~/.kaggle "
      ],
      "execution_count": null,
      "outputs": []
    },
    {
      "cell_type": "code",
      "metadata": {
        "id": "q6d2sMe-jcak",
        "colab": {
          "base_uri": "https://localhost:8080/"
        },
        "outputId": "6fc4ffb7-ed80-45e5-ac93-66c76848736d"
      },
      "source": [
        "%%writefile ~/.kaggle/kaggle.json\n",
        "\n",
        "{\"username\":\"crunchykitkat\",\"key\":\"7583e6a099f31708da004a8b2105a9ae\"}"
      ],
      "execution_count": null,
      "outputs": [
        {
          "output_type": "stream",
          "text": [
            "Writing /root/.kaggle/kaggle.json\n"
          ],
          "name": "stdout"
        }
      ]
    },
    {
      "cell_type": "code",
      "metadata": {
        "colab": {
          "base_uri": "https://localhost:8080/"
        },
        "id": "h0Tpe1AMhPjB",
        "outputId": "52dab40f-5706-4c94-ecc9-16989087cd55"
      },
      "source": [
        "!kaggle datasets download -d elikplim/forest-fires-data-set"
      ],
      "execution_count": null,
      "outputs": [
        {
          "output_type": "stream",
          "text": [
            "Warning: Your Kaggle API key is readable by other users on this system! To fix this, you can run 'chmod 600 /root/.kaggle/kaggle.json'\n",
            "Downloading forest-fires-data-set.zip to /content\n",
            "  0% 0.00/7.10k [00:00<?, ?B/s]\n",
            "100% 7.10k/7.10k [00:00<00:00, 5.93MB/s]\n"
          ],
          "name": "stdout"
        }
      ]
    },
    {
      "cell_type": "code",
      "metadata": {
        "id": "4tVgPksPCNXO",
        "colab": {
          "base_uri": "https://localhost:8080/"
        },
        "outputId": "8b01d955-c8db-440d-a101-773a06dc55b6"
      },
      "source": [
        "!unzip forest-fires-data-set.zip"
      ],
      "execution_count": null,
      "outputs": [
        {
          "output_type": "stream",
          "text": [
            "Archive:  forest-fires-data-set.zip\n",
            "  inflating: forestfires.csv         \n"
          ],
          "name": "stdout"
        }
      ]
    },
    {
      "cell_type": "markdown",
      "metadata": {
        "id": "WX8HVreoCbZb"
      },
      "source": [
        "# Load data into dataframe"
      ]
    },
    {
      "cell_type": "code",
      "metadata": {
        "id": "dVhQbQpgCUE0"
      },
      "source": [
        "df = pd.read_csv('forestfires.csv', encoding = \"ISO-8859-1\")"
      ],
      "execution_count": null,
      "outputs": []
    },
    {
      "cell_type": "code",
      "metadata": {
        "id": "80S_ukezDMKf",
        "colab": {
          "base_uri": "https://localhost:8080/",
          "height": 195
        },
        "outputId": "8a03ac15-827a-418e-bd22-9ad797676eec"
      },
      "source": [
        "df.head()"
      ],
      "execution_count": null,
      "outputs": [
        {
          "output_type": "execute_result",
          "data": {
            "text/html": [
              "<div>\n",
              "<style scoped>\n",
              "    .dataframe tbody tr th:only-of-type {\n",
              "        vertical-align: middle;\n",
              "    }\n",
              "\n",
              "    .dataframe tbody tr th {\n",
              "        vertical-align: top;\n",
              "    }\n",
              "\n",
              "    .dataframe thead th {\n",
              "        text-align: right;\n",
              "    }\n",
              "</style>\n",
              "<table border=\"1\" class=\"dataframe\">\n",
              "  <thead>\n",
              "    <tr style=\"text-align: right;\">\n",
              "      <th></th>\n",
              "      <th>X</th>\n",
              "      <th>Y</th>\n",
              "      <th>month</th>\n",
              "      <th>day</th>\n",
              "      <th>FFMC</th>\n",
              "      <th>DMC</th>\n",
              "      <th>DC</th>\n",
              "      <th>ISI</th>\n",
              "      <th>temp</th>\n",
              "      <th>RH</th>\n",
              "      <th>wind</th>\n",
              "      <th>rain</th>\n",
              "      <th>area</th>\n",
              "    </tr>\n",
              "  </thead>\n",
              "  <tbody>\n",
              "    <tr>\n",
              "      <th>0</th>\n",
              "      <td>7</td>\n",
              "      <td>5</td>\n",
              "      <td>mar</td>\n",
              "      <td>fri</td>\n",
              "      <td>86.2</td>\n",
              "      <td>26.2</td>\n",
              "      <td>94.3</td>\n",
              "      <td>5.1</td>\n",
              "      <td>8.2</td>\n",
              "      <td>51</td>\n",
              "      <td>6.7</td>\n",
              "      <td>0.0</td>\n",
              "      <td>0.0</td>\n",
              "    </tr>\n",
              "    <tr>\n",
              "      <th>1</th>\n",
              "      <td>7</td>\n",
              "      <td>4</td>\n",
              "      <td>oct</td>\n",
              "      <td>tue</td>\n",
              "      <td>90.6</td>\n",
              "      <td>35.4</td>\n",
              "      <td>669.1</td>\n",
              "      <td>6.7</td>\n",
              "      <td>18.0</td>\n",
              "      <td>33</td>\n",
              "      <td>0.9</td>\n",
              "      <td>0.0</td>\n",
              "      <td>0.0</td>\n",
              "    </tr>\n",
              "    <tr>\n",
              "      <th>2</th>\n",
              "      <td>7</td>\n",
              "      <td>4</td>\n",
              "      <td>oct</td>\n",
              "      <td>sat</td>\n",
              "      <td>90.6</td>\n",
              "      <td>43.7</td>\n",
              "      <td>686.9</td>\n",
              "      <td>6.7</td>\n",
              "      <td>14.6</td>\n",
              "      <td>33</td>\n",
              "      <td>1.3</td>\n",
              "      <td>0.0</td>\n",
              "      <td>0.0</td>\n",
              "    </tr>\n",
              "    <tr>\n",
              "      <th>3</th>\n",
              "      <td>8</td>\n",
              "      <td>6</td>\n",
              "      <td>mar</td>\n",
              "      <td>fri</td>\n",
              "      <td>91.7</td>\n",
              "      <td>33.3</td>\n",
              "      <td>77.5</td>\n",
              "      <td>9.0</td>\n",
              "      <td>8.3</td>\n",
              "      <td>97</td>\n",
              "      <td>4.0</td>\n",
              "      <td>0.2</td>\n",
              "      <td>0.0</td>\n",
              "    </tr>\n",
              "    <tr>\n",
              "      <th>4</th>\n",
              "      <td>8</td>\n",
              "      <td>6</td>\n",
              "      <td>mar</td>\n",
              "      <td>sun</td>\n",
              "      <td>89.3</td>\n",
              "      <td>51.3</td>\n",
              "      <td>102.2</td>\n",
              "      <td>9.6</td>\n",
              "      <td>11.4</td>\n",
              "      <td>99</td>\n",
              "      <td>1.8</td>\n",
              "      <td>0.0</td>\n",
              "      <td>0.0</td>\n",
              "    </tr>\n",
              "  </tbody>\n",
              "</table>\n",
              "</div>"
            ],
            "text/plain": [
              "   X  Y month  day  FFMC   DMC     DC  ISI  temp  RH  wind  rain  area\n",
              "0  7  5   mar  fri  86.2  26.2   94.3  5.1   8.2  51   6.7   0.0   0.0\n",
              "1  7  4   oct  tue  90.6  35.4  669.1  6.7  18.0  33   0.9   0.0   0.0\n",
              "2  7  4   oct  sat  90.6  43.7  686.9  6.7  14.6  33   1.3   0.0   0.0\n",
              "3  8  6   mar  fri  91.7  33.3   77.5  9.0   8.3  97   4.0   0.2   0.0\n",
              "4  8  6   mar  sun  89.3  51.3  102.2  9.6  11.4  99   1.8   0.0   0.0"
            ]
          },
          "metadata": {
            "tags": []
          },
          "execution_count": 8
        }
      ]
    },
    {
      "cell_type": "code",
      "metadata": {
        "id": "CWw7vRtBDY9C",
        "colab": {
          "base_uri": "https://localhost:8080/"
        },
        "outputId": "ad8741e4-7e77-4841-cada-6d54792c7c8e"
      },
      "source": [
        "df.info()"
      ],
      "execution_count": null,
      "outputs": [
        {
          "output_type": "stream",
          "text": [
            "<class 'pandas.core.frame.DataFrame'>\n",
            "RangeIndex: 517 entries, 0 to 516\n",
            "Data columns (total 13 columns):\n",
            " #   Column  Non-Null Count  Dtype  \n",
            "---  ------  --------------  -----  \n",
            " 0   X       517 non-null    int64  \n",
            " 1   Y       517 non-null    int64  \n",
            " 2   month   517 non-null    object \n",
            " 3   day     517 non-null    object \n",
            " 4   FFMC    517 non-null    float64\n",
            " 5   DMC     517 non-null    float64\n",
            " 6   DC      517 non-null    float64\n",
            " 7   ISI     517 non-null    float64\n",
            " 8   temp    517 non-null    float64\n",
            " 9   RH      517 non-null    int64  \n",
            " 10  wind    517 non-null    float64\n",
            " 11  rain    517 non-null    float64\n",
            " 12  area    517 non-null    float64\n",
            "dtypes: float64(8), int64(3), object(2)\n",
            "memory usage: 52.6+ KB\n"
          ],
          "name": "stdout"
        }
      ]
    },
    {
      "cell_type": "code",
      "metadata": {
        "id": "IaVAv3sZDZ-n",
        "colab": {
          "base_uri": "https://localhost:8080/",
          "height": 373
        },
        "outputId": "347693c6-4e12-4811-9b0b-687962e422f5"
      },
      "source": [
        "df.describe(include = 'all')\n",
        "# FFMC The Fine Fuel Moisture Code\n",
        "# DMC deep moist convection\n",
        "# ISI Initial Spread Index\n",
        "# RH relative humidity \n"
      ],
      "execution_count": null,
      "outputs": [
        {
          "output_type": "execute_result",
          "data": {
            "text/html": [
              "<div>\n",
              "<style scoped>\n",
              "    .dataframe tbody tr th:only-of-type {\n",
              "        vertical-align: middle;\n",
              "    }\n",
              "\n",
              "    .dataframe tbody tr th {\n",
              "        vertical-align: top;\n",
              "    }\n",
              "\n",
              "    .dataframe thead th {\n",
              "        text-align: right;\n",
              "    }\n",
              "</style>\n",
              "<table border=\"1\" class=\"dataframe\">\n",
              "  <thead>\n",
              "    <tr style=\"text-align: right;\">\n",
              "      <th></th>\n",
              "      <th>X</th>\n",
              "      <th>Y</th>\n",
              "      <th>month</th>\n",
              "      <th>day</th>\n",
              "      <th>FFMC</th>\n",
              "      <th>DMC</th>\n",
              "      <th>DC</th>\n",
              "      <th>ISI</th>\n",
              "      <th>temp</th>\n",
              "      <th>RH</th>\n",
              "      <th>wind</th>\n",
              "      <th>rain</th>\n",
              "      <th>area</th>\n",
              "    </tr>\n",
              "  </thead>\n",
              "  <tbody>\n",
              "    <tr>\n",
              "      <th>count</th>\n",
              "      <td>517.000000</td>\n",
              "      <td>517.000000</td>\n",
              "      <td>517</td>\n",
              "      <td>517</td>\n",
              "      <td>517.000000</td>\n",
              "      <td>517.000000</td>\n",
              "      <td>517.000000</td>\n",
              "      <td>517.000000</td>\n",
              "      <td>517.000000</td>\n",
              "      <td>517.000000</td>\n",
              "      <td>517.000000</td>\n",
              "      <td>517.000000</td>\n",
              "      <td>517.000000</td>\n",
              "    </tr>\n",
              "    <tr>\n",
              "      <th>unique</th>\n",
              "      <td>NaN</td>\n",
              "      <td>NaN</td>\n",
              "      <td>12</td>\n",
              "      <td>7</td>\n",
              "      <td>NaN</td>\n",
              "      <td>NaN</td>\n",
              "      <td>NaN</td>\n",
              "      <td>NaN</td>\n",
              "      <td>NaN</td>\n",
              "      <td>NaN</td>\n",
              "      <td>NaN</td>\n",
              "      <td>NaN</td>\n",
              "      <td>NaN</td>\n",
              "    </tr>\n",
              "    <tr>\n",
              "      <th>top</th>\n",
              "      <td>NaN</td>\n",
              "      <td>NaN</td>\n",
              "      <td>aug</td>\n",
              "      <td>sun</td>\n",
              "      <td>NaN</td>\n",
              "      <td>NaN</td>\n",
              "      <td>NaN</td>\n",
              "      <td>NaN</td>\n",
              "      <td>NaN</td>\n",
              "      <td>NaN</td>\n",
              "      <td>NaN</td>\n",
              "      <td>NaN</td>\n",
              "      <td>NaN</td>\n",
              "    </tr>\n",
              "    <tr>\n",
              "      <th>freq</th>\n",
              "      <td>NaN</td>\n",
              "      <td>NaN</td>\n",
              "      <td>184</td>\n",
              "      <td>95</td>\n",
              "      <td>NaN</td>\n",
              "      <td>NaN</td>\n",
              "      <td>NaN</td>\n",
              "      <td>NaN</td>\n",
              "      <td>NaN</td>\n",
              "      <td>NaN</td>\n",
              "      <td>NaN</td>\n",
              "      <td>NaN</td>\n",
              "      <td>NaN</td>\n",
              "    </tr>\n",
              "    <tr>\n",
              "      <th>mean</th>\n",
              "      <td>4.669246</td>\n",
              "      <td>4.299807</td>\n",
              "      <td>NaN</td>\n",
              "      <td>NaN</td>\n",
              "      <td>90.644681</td>\n",
              "      <td>110.872340</td>\n",
              "      <td>547.940039</td>\n",
              "      <td>9.021663</td>\n",
              "      <td>18.889168</td>\n",
              "      <td>44.288201</td>\n",
              "      <td>4.017602</td>\n",
              "      <td>0.021663</td>\n",
              "      <td>12.847292</td>\n",
              "    </tr>\n",
              "    <tr>\n",
              "      <th>std</th>\n",
              "      <td>2.313778</td>\n",
              "      <td>1.229900</td>\n",
              "      <td>NaN</td>\n",
              "      <td>NaN</td>\n",
              "      <td>5.520111</td>\n",
              "      <td>64.046482</td>\n",
              "      <td>248.066192</td>\n",
              "      <td>4.559477</td>\n",
              "      <td>5.806625</td>\n",
              "      <td>16.317469</td>\n",
              "      <td>1.791653</td>\n",
              "      <td>0.295959</td>\n",
              "      <td>63.655818</td>\n",
              "    </tr>\n",
              "    <tr>\n",
              "      <th>min</th>\n",
              "      <td>1.000000</td>\n",
              "      <td>2.000000</td>\n",
              "      <td>NaN</td>\n",
              "      <td>NaN</td>\n",
              "      <td>18.700000</td>\n",
              "      <td>1.100000</td>\n",
              "      <td>7.900000</td>\n",
              "      <td>0.000000</td>\n",
              "      <td>2.200000</td>\n",
              "      <td>15.000000</td>\n",
              "      <td>0.400000</td>\n",
              "      <td>0.000000</td>\n",
              "      <td>0.000000</td>\n",
              "    </tr>\n",
              "    <tr>\n",
              "      <th>25%</th>\n",
              "      <td>3.000000</td>\n",
              "      <td>4.000000</td>\n",
              "      <td>NaN</td>\n",
              "      <td>NaN</td>\n",
              "      <td>90.200000</td>\n",
              "      <td>68.600000</td>\n",
              "      <td>437.700000</td>\n",
              "      <td>6.500000</td>\n",
              "      <td>15.500000</td>\n",
              "      <td>33.000000</td>\n",
              "      <td>2.700000</td>\n",
              "      <td>0.000000</td>\n",
              "      <td>0.000000</td>\n",
              "    </tr>\n",
              "    <tr>\n",
              "      <th>50%</th>\n",
              "      <td>4.000000</td>\n",
              "      <td>4.000000</td>\n",
              "      <td>NaN</td>\n",
              "      <td>NaN</td>\n",
              "      <td>91.600000</td>\n",
              "      <td>108.300000</td>\n",
              "      <td>664.200000</td>\n",
              "      <td>8.400000</td>\n",
              "      <td>19.300000</td>\n",
              "      <td>42.000000</td>\n",
              "      <td>4.000000</td>\n",
              "      <td>0.000000</td>\n",
              "      <td>0.520000</td>\n",
              "    </tr>\n",
              "    <tr>\n",
              "      <th>75%</th>\n",
              "      <td>7.000000</td>\n",
              "      <td>5.000000</td>\n",
              "      <td>NaN</td>\n",
              "      <td>NaN</td>\n",
              "      <td>92.900000</td>\n",
              "      <td>142.400000</td>\n",
              "      <td>713.900000</td>\n",
              "      <td>10.800000</td>\n",
              "      <td>22.800000</td>\n",
              "      <td>53.000000</td>\n",
              "      <td>4.900000</td>\n",
              "      <td>0.000000</td>\n",
              "      <td>6.570000</td>\n",
              "    </tr>\n",
              "    <tr>\n",
              "      <th>max</th>\n",
              "      <td>9.000000</td>\n",
              "      <td>9.000000</td>\n",
              "      <td>NaN</td>\n",
              "      <td>NaN</td>\n",
              "      <td>96.200000</td>\n",
              "      <td>291.300000</td>\n",
              "      <td>860.600000</td>\n",
              "      <td>56.100000</td>\n",
              "      <td>33.300000</td>\n",
              "      <td>100.000000</td>\n",
              "      <td>9.400000</td>\n",
              "      <td>6.400000</td>\n",
              "      <td>1090.840000</td>\n",
              "    </tr>\n",
              "  </tbody>\n",
              "</table>\n",
              "</div>"
            ],
            "text/plain": [
              "                 X           Y month  ...        wind        rain         area\n",
              "count   517.000000  517.000000   517  ...  517.000000  517.000000   517.000000\n",
              "unique         NaN         NaN    12  ...         NaN         NaN          NaN\n",
              "top            NaN         NaN   aug  ...         NaN         NaN          NaN\n",
              "freq           NaN         NaN   184  ...         NaN         NaN          NaN\n",
              "mean      4.669246    4.299807   NaN  ...    4.017602    0.021663    12.847292\n",
              "std       2.313778    1.229900   NaN  ...    1.791653    0.295959    63.655818\n",
              "min       1.000000    2.000000   NaN  ...    0.400000    0.000000     0.000000\n",
              "25%       3.000000    4.000000   NaN  ...    2.700000    0.000000     0.000000\n",
              "50%       4.000000    4.000000   NaN  ...    4.000000    0.000000     0.520000\n",
              "75%       7.000000    5.000000   NaN  ...    4.900000    0.000000     6.570000\n",
              "max       9.000000    9.000000   NaN  ...    9.400000    6.400000  1090.840000\n",
              "\n",
              "[11 rows x 13 columns]"
            ]
          },
          "metadata": {
            "tags": []
          },
          "execution_count": 10
        }
      ]
    },
    {
      "cell_type": "markdown",
      "metadata": {
        "id": "jXj5RiBQmL2O"
      },
      "source": [
        "Temperature attributes are described in code names, according to fire weather index system => https://www.nwcg.gov/publications/pms437/cffdrs/fire-weather-index-system#TOC-Fire-Weather-Index-NFDRS-Crosswalk\n",
        "\n"
      ]
    },
    {
      "cell_type": "markdown",
      "metadata": {
        "id": "NwpAVy6NLD6g"
      },
      "source": [
        "# Data EDA"
      ]
    },
    {
      "cell_type": "code",
      "metadata": {
        "id": "R6vU4caMzwGh",
        "colab": {
          "base_uri": "https://localhost:8080/"
        },
        "outputId": "f0a74700-827e-4cf0-df74-4891ad3bdde9"
      },
      "source": [
        "# Calculating missing data in feature columns\n",
        "data_mis = (df.isnull().sum() / len(df))\n",
        "data_mis "
      ],
      "execution_count": null,
      "outputs": [
        {
          "output_type": "execute_result",
          "data": {
            "text/plain": [
              "X        0.0\n",
              "Y        0.0\n",
              "month    0.0\n",
              "day      0.0\n",
              "FFMC     0.0\n",
              "DMC      0.0\n",
              "DC       0.0\n",
              "ISI      0.0\n",
              "temp     0.0\n",
              "RH       0.0\n",
              "wind     0.0\n",
              "rain     0.0\n",
              "area     0.0\n",
              "dtype: float64"
            ]
          },
          "metadata": {
            "tags": []
          },
          "execution_count": 11
        }
      ]
    },
    {
      "cell_type": "markdown",
      "metadata": {
        "id": "OB8b5zSAnLAV"
      },
      "source": [
        "dataset contains 0 NULLS"
      ]
    },
    {
      "cell_type": "code",
      "metadata": {
        "id": "u4rQbOHgLyXB"
      },
      "source": [
        "#replace months names and days to numbers \n",
        "df.month.replace(('jan','feb','mar','apr','may','jun','jul','aug','sep','oct','nov','dec'),(1,2,3,4,5,6,7,8,9,10,11,12), inplace=True)\n",
        "df.day.replace(('mon','tue','wed','thu','fri','sat','sun'),(1,2,3,4,5,6,7), inplace=True)"
      ],
      "execution_count": null,
      "outputs": []
    },
    {
      "cell_type": "code",
      "metadata": {
        "id": "jEyrqkWxLFWY",
        "colab": {
          "base_uri": "https://localhost:8080/",
          "height": 1000
        },
        "outputId": "5ee6b31c-6513-4492-acf2-a368ba050179"
      },
      "source": [
        "#plot histograms for each feature in data, using seaborn style\n",
        "plt.style.use('seaborn')\n",
        "df.hist(bins=30, figsize=(20,15))"
      ],
      "execution_count": null,
      "outputs": [
        {
          "output_type": "execute_result",
          "data": {
            "text/plain": [
              "array([[<matplotlib.axes._subplots.AxesSubplot object at 0x7fc130e27400>,\n",
              "        <matplotlib.axes._subplots.AxesSubplot object at 0x7fc130d7da90>,\n",
              "        <matplotlib.axes._subplots.AxesSubplot object at 0x7fc130dba128>,\n",
              "        <matplotlib.axes._subplots.AxesSubplot object at 0x7fc130d6b780>],\n",
              "       [<matplotlib.axes._subplots.AxesSubplot object at 0x7fc130d19dd8>,\n",
              "        <matplotlib.axes._subplots.AxesSubplot object at 0x7fc130cd8470>,\n",
              "        <matplotlib.axes._subplots.AxesSubplot object at 0x7fc130c88ac8>,\n",
              "        <matplotlib.axes._subplots.AxesSubplot object at 0x7fc130c44128>],\n",
              "       [<matplotlib.axes._subplots.AxesSubplot object at 0x7fc130c44198>,\n",
              "        <matplotlib.axes._subplots.AxesSubplot object at 0x7fc130c23e10>,\n",
              "        <matplotlib.axes._subplots.AxesSubplot object at 0x7fc130be34a8>,\n",
              "        <matplotlib.axes._subplots.AxesSubplot object at 0x7fc130b92b00>],\n",
              "       [<matplotlib.axes._subplots.AxesSubplot object at 0x7fc130b4e198>,\n",
              "        <matplotlib.axes._subplots.AxesSubplot object at 0x7fc130afe7f0>,\n",
              "        <matplotlib.axes._subplots.AxesSubplot object at 0x7fc130b2ee48>,\n",
              "        <matplotlib.axes._subplots.AxesSubplot object at 0x7fc130dbacf8>]],\n",
              "      dtype=object)"
            ]
          },
          "metadata": {
            "tags": []
          },
          "execution_count": 13
        },
        {
          "output_type": "display_data",
          "data": {
            "image/png": "[encoded data removed]",
            "text/plain": [
              "<Figure size 1440x1080 with 16 Axes>"
            ]
          },
          "metadata": {
            "tags": []
          }
        }
      ]
    },
    {
      "cell_type": "code",
      "metadata": {
        "id": "Dal-qOBNom6e",
        "colab": {
          "base_uri": "https://localhost:8080/",
          "height": 390
        },
        "outputId": "43fc438f-1751-4e8f-ed49-69f874d739d6"
      },
      "source": [
        "# graphing the distribution of the fires area\n",
        "plt.figure(figsize=(16,5))\n",
        "print(\"Skew: {}\".format(df['area'].skew()))\n",
        "print(\"Kurtosis: {}\".format(df['area'].kurtosis()))\n",
        "ax = sns.kdeplot(df['area'],shade=True,color='g')\n",
        "plt.xlabel('Area in hectare',color='red',fontsize=15)\n",
        "plt.ylabel('probability density of forest fire',color='red',fontsize=15)\n",
        "plt.title('Forest Fire Probability Density  Vs Amount of Area Burnt',color='blue',fontsize=18)\n",
        "plt.xticks([i for i in range(0,1200,50)])\n",
        "plt.show()"
      ],
      "execution_count": null,
      "outputs": [
        {
          "output_type": "stream",
          "text": [
            "Skew: 12.846933533934868\n",
            "Kurtosis: 194.1407210942299\n"
          ],
          "name": "stdout"
        },
        {
          "output_type": "display_data",
          "data": {
            "image/png": "[encoded data removed]",
            "text/plain": [
              "<Figure size 1152x360 with 1 Axes>"
            ]
          },
          "metadata": {
            "tags": []
          }
        }
      ]
    },
    {
      "cell_type": "code",
      "metadata": {
        "id": "J66sKWW5zILa",
        "colab": {
          "base_uri": "https://localhost:8080/"
        },
        "outputId": "76b7cb0c-8263-4468-8c0d-baefa065a6c3"
      },
      "source": [
        "print(\"Skew: \\n{}\".format(df.skew()))"
      ],
      "execution_count": null,
      "outputs": [
        {
          "output_type": "stream",
          "text": [
            "Skew: \n",
            "X         0.036246\n",
            "Y         0.417296\n",
            "month    -1.218012\n",
            "day      -0.212969\n",
            "FFMC     -6.575606\n",
            "DMC       0.547498\n",
            "DC       -1.100445\n",
            "ISI       2.536325\n",
            "temp     -0.331172\n",
            "RH        0.862904\n",
            "wind      0.571001\n",
            "rain     19.816344\n",
            "area     12.846934\n",
            "dtype: float64\n"
          ],
          "name": "stdout"
        }
      ]
    },
    {
      "cell_type": "markdown",
      "metadata": {
        "id": "YCazOxaLLinq"
      },
      "source": [
        "As seen, rain and burned areas are left skewed, this may require normal scaling later "
      ]
    },
    {
      "cell_type": "code",
      "metadata": {
        "id": "nshRrpPvNgum",
        "colab": {
          "base_uri": "https://localhost:8080/",
          "height": 382
        },
        "outputId": "26f993a1-2c32-4440-d09a-75614a7fbdfe"
      },
      "source": [
        "#plot diagonal correlation heatmap\n",
        "\n",
        "corr = df.corr() #features correlation in dataset\n",
        "mask = np.triu(np.ones_like(corr, dtype=bool)) #mask to hide the upper diagonal of the matrix \n",
        "cmap = sns.diverging_palette(230, 20, as_cmap=True) #plot's color map (blue to pink gradiant)\n",
        "sns.heatmap(corr, cmap=cmap,mask = mask, vmax=.3, center=0,\n",
        "            square=True, linewidths=.5, cbar_kws={\"shrink\": .5}) #plot heatmap "
      ],
      "execution_count": null,
      "outputs": [
        {
          "output_type": "execute_result",
          "data": {
            "text/plain": [
              "<matplotlib.axes._subplots.AxesSubplot at 0x7fc130600cc0>"
            ]
          },
          "metadata": {
            "tags": []
          },
          "execution_count": 16
        },
        {
          "output_type": "display_data",
          "data": {
            "image/png": "[encoded data removed]",
            "text/plain": [
              "<Figure size 576x396 with 2 Axes>"
            ]
          },
          "metadata": {
            "tags": []
          }
        }
      ]
    },
    {
      "cell_type": "code",
      "metadata": {
        "id": "QDG1SIHEq43p",
        "colab": {
          "base_uri": "https://localhost:8080/"
        },
        "outputId": "fac593d8-41e1-4931-c690-dbc957a20163"
      },
      "source": [
        "df.corr()['area'].sort_values(ascending=False)"
      ],
      "execution_count": null,
      "outputs": [
        {
          "output_type": "execute_result",
          "data": {
            "text/plain": [
              "area     1.000000\n",
              "temp     0.097844\n",
              "DMC      0.072994\n",
              "X        0.063385\n",
              "month    0.056496\n",
              "DC       0.049383\n",
              "Y        0.044873\n",
              "FFMC     0.040122\n",
              "day      0.023226\n",
              "wind     0.012317\n",
              "ISI      0.008258\n",
              "rain    -0.007366\n",
              "RH      -0.075519\n",
              "Name: area, dtype: float64"
            ]
          },
          "metadata": {
            "tags": []
          },
          "execution_count": 17
        }
      ]
    },
    {
      "cell_type": "markdown",
      "metadata": {
        "id": "6fV8WYmzN6gO"
      },
      "source": [
        "As seen in heatmap above:\n",
        "1. Fire weather indices (FFMC, DMC, DC, ISI) correlate mainly with month (seasonal)\n",
        "2. Fire weather indicies intercorrelate with each other\n",
        "3. Burned area correlate mostly with the temperature, then DMC\n",
        "\n"
      ]
    },
    {
      "cell_type": "code",
      "metadata": {
        "id": "-8NYeC4ze67j",
        "colab": {
          "base_uri": "https://localhost:8080/",
          "height": 401
        },
        "outputId": "e01e792f-e7ac-45aa-ad94-8f763c0645ea"
      },
      "source": [
        "df.plot(kind='scatter', x='X', y='Y', alpha=0.1, s=300) # scatter plot for the locations of burned area\n",
        "plt.xlabel('X cordinates',color='blue',fontsize=15)\n",
        "plt.ylabel('Y cordinates',color='blue',fontsize=15)\n",
        "plt.title('scatter plot for the locations of burned area',color='blue',fontsize=18)"
      ],
      "execution_count": null,
      "outputs": [
        {
          "output_type": "execute_result",
          "data": {
            "text/plain": [
              "Text(0.5, 1.0, 'scatter plot for the locations of burned area')"
            ]
          },
          "metadata": {
            "tags": []
          },
          "execution_count": 18
        },
        {
          "output_type": "display_data",
          "data": {
            "image/png": "[encoded data removed]",
            "text/plain": [
              "<Figure size 576x396 with 1 Axes>"
            ]
          },
          "metadata": {
            "tags": []
          }
        }
      ]
    },
    {
      "cell_type": "code",
      "metadata": {
        "id": "6iYljwWfkGxc",
        "colab": {
          "base_uri": "https://localhost:8080/",
          "height": 402
        },
        "outputId": "4a52a365-2f2e-402b-f993-842ce4572f9a"
      },
      "source": [
        "#increase burned area bubble size by `area` parameter \n",
        "df.plot(kind='scatter', x='X', y='Y', alpha=0.2, s= 20 * df['area']) \n",
        "plt.xlabel('X cordinates',color='blue',fontsize=15)\n",
        "plt.ylabel('Y cordinates',color='blue',fontsize=15)\n",
        "plt.title('increase burned area bubble size by `area` parameter ',color='blue',fontsize=18)"
      ],
      "execution_count": null,
      "outputs": [
        {
          "output_type": "execute_result",
          "data": {
            "text/plain": [
              "Text(0.5, 1.0, 'increase burned area bubble size by `area` parameter ')"
            ]
          },
          "metadata": {
            "tags": []
          },
          "execution_count": 19
        },
        {
          "output_type": "display_data",
          "data": {
            "image/png": "[encoded data removed]",
            "text/plain": [
              "<Figure size 576x396 with 1 Axes>"
            ]
          },
          "metadata": {
            "tags": []
          }
        }
      ]
    },
    {
      "cell_type": "markdown",
      "metadata": {
        "id": "EEwPvITxkeus"
      },
      "source": [
        "Most damaged area is (6,5), by frequency and affected area size"
      ]
    },
    {
      "cell_type": "code",
      "metadata": {
        "id": "7l8zyVS8ktT_",
        "colab": {
          "base_uri": "https://localhost:8080/"
        },
        "outputId": "5e3fcad8-8d08-4f66-e031-d66aad1d53d6"
      },
      "source": [
        "df['area']"
      ],
      "execution_count": null,
      "outputs": [
        {
          "output_type": "execute_result",
          "data": {
            "text/plain": [
              "0       0.00\n",
              "1       0.00\n",
              "2       0.00\n",
              "3       0.00\n",
              "4       0.00\n",
              "       ...  \n",
              "512     6.44\n",
              "513    54.29\n",
              "514    11.16\n",
              "515     0.00\n",
              "516     0.00\n",
              "Name: area, Length: 517, dtype: float64"
            ]
          },
          "metadata": {
            "tags": []
          },
          "execution_count": 20
        }
      ]
    },
    {
      "cell_type": "code",
      "metadata": {
        "id": "XnrcLw66nvsK",
        "colab": {
          "base_uri": "https://localhost:8080/",
          "height": 397
        },
        "outputId": "3a1e8b14-9361-4d6a-dba2-e14331462bca"
      },
      "source": [
        "plt.bar(df.groupby('month').sum().index, df.groupby('month').sum()['area'])\n",
        "plt.title('Burned Areas Size in Each Month', fontsize = 18)\n",
        "plt.xlabel('Month')\n",
        "plt.ylabel('Affected Area Size')"
      ],
      "execution_count": null,
      "outputs": [
        {
          "output_type": "execute_result",
          "data": {
            "text/plain": [
              "Text(0, 0.5, 'Affected Area Size')"
            ]
          },
          "metadata": {
            "tags": []
          },
          "execution_count": 21
        },
        {
          "output_type": "display_data",
          "data": {
            "image/png": "[encoded data removed]",
            "text/plain": [
              "<Figure size 576x396 with 1 Axes>"
            ]
          },
          "metadata": {
            "tags": []
          }
        }
      ]
    },
    {
      "cell_type": "code",
      "metadata": {
        "id": "IKsaJWozo36V",
        "colab": {
          "base_uri": "https://localhost:8080/",
          "height": 397
        },
        "outputId": "6371a56c-6cdc-4d57-dad6-a1dde2c107b4"
      },
      "source": [
        "plt.bar(df.groupby('month').sum().index, df.groupby('month').sum()['DMC'])\n",
        "plt.title('Duff Moisture (DMC) in Each Month', fontsize = 18)\n",
        "plt.xlabel('Month')\n",
        "plt.ylabel('DMC')"
      ],
      "execution_count": null,
      "outputs": [
        {
          "output_type": "execute_result",
          "data": {
            "text/plain": [
              "Text(0, 0.5, 'DMC')"
            ]
          },
          "metadata": {
            "tags": []
          },
          "execution_count": 22
        },
        {
          "output_type": "display_data",
          "data": {
            "image/png": "[encoded data removed]",
            "text/plain": [
              "<Figure size 576x396 with 1 Axes>"
            ]
          },
          "metadata": {
            "tags": []
          }
        }
      ]
    },
    {
      "cell_type": "markdown",
      "metadata": {
        "id": "OOG3BqajpJ9w"
      },
      "source": [
        "As the last 2 plots demonstrate, there is a strong correlation between affected areas size and Duff Moisture metric. Which was mainly deduced from correlation heatmap above."
      ]
    },
    {
      "cell_type": "markdown",
      "metadata": {
        "id": "gI3tzXuUsUuF"
      },
      "source": [
        "**Weather Observations:**\n",
        "\n",
        "\n",
        "1.   Rain Rainfall only in these months:aug,july and mar which is even very less in amount.\n",
        "\n",
        "Months receving no rainfall is more of a dangerous conditions with respect to rainfall prospective.\n",
        "\n",
        "2.   Temp june,july,aug,sep,oct has high temp\n",
        "3.   Wind wind is low in jan,feb,july,sep,oct\n",
        "4.   Relative Humidity we see humidity is also low in sep oct nov dec\n",
        "5.   DC value high in july,aug,sep,oct more dry in that month\n",
        "6.   DMC value high in july ,aug,sep but not in oct\n",
        "7.   FFMC value high above 90 in aug,july,sep,oct\n",
        "8.   ISI value high in june july aug,sep Forest Fire Prediction\n",
        "9.   Month having no rainfall is more prone to catch forest fire\n",
        "10.  When temp is increasing the moisture content of all 3 different types of fuel is reduced in the same month, so more dangerous conditions have occured in the months of july,aug,sep,oct from temp prospective\n",
        "11.  Also we can see that DMC and DC value have no significant relations with wind and Relative humidity columns\n",
        "12.  Months having low humidity is more prone to catch forest fire.\n",
        "\n",
        "\n",
        "\n",
        "\n",
        "\n",
        "\n",
        "\n",
        "\n",
        "\n",
        "\n",
        "\n",
        "\n",
        "\n",
        "\n",
        "\n"
      ]
    },
    {
      "cell_type": "code",
      "metadata": {
        "id": "wd2tfI8bxb36",
        "colab": {
          "base_uri": "https://localhost:8080/",
          "height": 402
        },
        "outputId": "c12d5151-b2e4-43dc-c245-2f7d0df5eb2a"
      },
      "source": [
        "areaburnt=df[df['area']>0]\n",
        "areaburnt"
      ],
      "execution_count": null,
      "outputs": [
        {
          "output_type": "execute_result",
          "data": {
            "text/html": [
              "<div>\n",
              "<style scoped>\n",
              "    .dataframe tbody tr th:only-of-type {\n",
              "        vertical-align: middle;\n",
              "    }\n",
              "\n",
              "    .dataframe tbody tr th {\n",
              "        vertical-align: top;\n",
              "    }\n",
              "\n",
              "    .dataframe thead th {\n",
              "        text-align: right;\n",
              "    }\n",
              "</style>\n",
              "<table border=\"1\" class=\"dataframe\">\n",
              "  <thead>\n",
              "    <tr style=\"text-align: right;\">\n",
              "      <th></th>\n",
              "      <th>X</th>\n",
              "      <th>Y</th>\n",
              "      <th>month</th>\n",
              "      <th>day</th>\n",
              "      <th>FFMC</th>\n",
              "      <th>DMC</th>\n",
              "      <th>DC</th>\n",
              "      <th>ISI</th>\n",
              "      <th>temp</th>\n",
              "      <th>RH</th>\n",
              "      <th>wind</th>\n",
              "      <th>rain</th>\n",
              "      <th>area</th>\n",
              "    </tr>\n",
              "  </thead>\n",
              "  <tbody>\n",
              "    <tr>\n",
              "      <th>138</th>\n",
              "      <td>9</td>\n",
              "      <td>9</td>\n",
              "      <td>7</td>\n",
              "      <td>2</td>\n",
              "      <td>85.8</td>\n",
              "      <td>48.3</td>\n",
              "      <td>313.4</td>\n",
              "      <td>3.9</td>\n",
              "      <td>18.0</td>\n",
              "      <td>42</td>\n",
              "      <td>2.7</td>\n",
              "      <td>0.0</td>\n",
              "      <td>0.36</td>\n",
              "    </tr>\n",
              "    <tr>\n",
              "      <th>139</th>\n",
              "      <td>1</td>\n",
              "      <td>4</td>\n",
              "      <td>9</td>\n",
              "      <td>2</td>\n",
              "      <td>91.0</td>\n",
              "      <td>129.5</td>\n",
              "      <td>692.6</td>\n",
              "      <td>7.0</td>\n",
              "      <td>21.7</td>\n",
              "      <td>38</td>\n",
              "      <td>2.2</td>\n",
              "      <td>0.0</td>\n",
              "      <td>0.43</td>\n",
              "    </tr>\n",
              "    <tr>\n",
              "      <th>140</th>\n",
              "      <td>2</td>\n",
              "      <td>5</td>\n",
              "      <td>9</td>\n",
              "      <td>1</td>\n",
              "      <td>90.9</td>\n",
              "      <td>126.5</td>\n",
              "      <td>686.5</td>\n",
              "      <td>7.0</td>\n",
              "      <td>21.9</td>\n",
              "      <td>39</td>\n",
              "      <td>1.8</td>\n",
              "      <td>0.0</td>\n",
              "      <td>0.47</td>\n",
              "    </tr>\n",
              "    <tr>\n",
              "      <th>141</th>\n",
              "      <td>1</td>\n",
              "      <td>2</td>\n",
              "      <td>8</td>\n",
              "      <td>3</td>\n",
              "      <td>95.5</td>\n",
              "      <td>99.9</td>\n",
              "      <td>513.3</td>\n",
              "      <td>13.2</td>\n",
              "      <td>23.3</td>\n",
              "      <td>31</td>\n",
              "      <td>4.5</td>\n",
              "      <td>0.0</td>\n",
              "      <td>0.55</td>\n",
              "    </tr>\n",
              "    <tr>\n",
              "      <th>142</th>\n",
              "      <td>8</td>\n",
              "      <td>6</td>\n",
              "      <td>8</td>\n",
              "      <td>5</td>\n",
              "      <td>90.1</td>\n",
              "      <td>108.0</td>\n",
              "      <td>529.8</td>\n",
              "      <td>12.5</td>\n",
              "      <td>21.2</td>\n",
              "      <td>51</td>\n",
              "      <td>8.9</td>\n",
              "      <td>0.0</td>\n",
              "      <td>0.61</td>\n",
              "    </tr>\n",
              "    <tr>\n",
              "      <th>...</th>\n",
              "      <td>...</td>\n",
              "      <td>...</td>\n",
              "      <td>...</td>\n",
              "      <td>...</td>\n",
              "      <td>...</td>\n",
              "      <td>...</td>\n",
              "      <td>...</td>\n",
              "      <td>...</td>\n",
              "      <td>...</td>\n",
              "      <td>...</td>\n",
              "      <td>...</td>\n",
              "      <td>...</td>\n",
              "      <td>...</td>\n",
              "    </tr>\n",
              "    <tr>\n",
              "      <th>509</th>\n",
              "      <td>5</td>\n",
              "      <td>4</td>\n",
              "      <td>8</td>\n",
              "      <td>5</td>\n",
              "      <td>91.0</td>\n",
              "      <td>166.9</td>\n",
              "      <td>752.6</td>\n",
              "      <td>7.1</td>\n",
              "      <td>21.1</td>\n",
              "      <td>71</td>\n",
              "      <td>7.6</td>\n",
              "      <td>1.4</td>\n",
              "      <td>2.17</td>\n",
              "    </tr>\n",
              "    <tr>\n",
              "      <th>510</th>\n",
              "      <td>6</td>\n",
              "      <td>5</td>\n",
              "      <td>8</td>\n",
              "      <td>5</td>\n",
              "      <td>91.0</td>\n",
              "      <td>166.9</td>\n",
              "      <td>752.6</td>\n",
              "      <td>7.1</td>\n",
              "      <td>18.2</td>\n",
              "      <td>62</td>\n",
              "      <td>5.4</td>\n",
              "      <td>0.0</td>\n",
              "      <td>0.43</td>\n",
              "    </tr>\n",
              "    <tr>\n",
              "      <th>512</th>\n",
              "      <td>4</td>\n",
              "      <td>3</td>\n",
              "      <td>8</td>\n",
              "      <td>7</td>\n",
              "      <td>81.6</td>\n",
              "      <td>56.7</td>\n",
              "      <td>665.6</td>\n",
              "      <td>1.9</td>\n",
              "      <td>27.8</td>\n",
              "      <td>32</td>\n",
              "      <td>2.7</td>\n",
              "      <td>0.0</td>\n",
              "      <td>6.44</td>\n",
              "    </tr>\n",
              "    <tr>\n",
              "      <th>513</th>\n",
              "      <td>2</td>\n",
              "      <td>4</td>\n",
              "      <td>8</td>\n",
              "      <td>7</td>\n",
              "      <td>81.6</td>\n",
              "      <td>56.7</td>\n",
              "      <td>665.6</td>\n",
              "      <td>1.9</td>\n",
              "      <td>21.9</td>\n",
              "      <td>71</td>\n",
              "      <td>5.8</td>\n",
              "      <td>0.0</td>\n",
              "      <td>54.29</td>\n",
              "    </tr>\n",
              "    <tr>\n",
              "      <th>514</th>\n",
              "      <td>7</td>\n",
              "      <td>4</td>\n",
              "      <td>8</td>\n",
              "      <td>7</td>\n",
              "      <td>81.6</td>\n",
              "      <td>56.7</td>\n",
              "      <td>665.6</td>\n",
              "      <td>1.9</td>\n",
              "      <td>21.2</td>\n",
              "      <td>70</td>\n",
              "      <td>6.7</td>\n",
              "      <td>0.0</td>\n",
              "      <td>11.16</td>\n",
              "    </tr>\n",
              "  </tbody>\n",
              "</table>\n",
              "<p>270 rows × 13 columns</p>\n",
              "</div>"
            ],
            "text/plain": [
              "     X  Y  month  day  FFMC    DMC     DC   ISI  temp  RH  wind  rain   area\n",
              "138  9  9      7    2  85.8   48.3  313.4   3.9  18.0  42   2.7   0.0   0.36\n",
              "139  1  4      9    2  91.0  129.5  692.6   7.0  21.7  38   2.2   0.0   0.43\n",
              "140  2  5      9    1  90.9  126.5  686.5   7.0  21.9  39   1.8   0.0   0.47\n",
              "141  1  2      8    3  95.5   99.9  513.3  13.2  23.3  31   4.5   0.0   0.55\n",
              "142  8  6      8    5  90.1  108.0  529.8  12.5  21.2  51   8.9   0.0   0.61\n",
              "..  .. ..    ...  ...   ...    ...    ...   ...   ...  ..   ...   ...    ...\n",
              "509  5  4      8    5  91.0  166.9  752.6   7.1  21.1  71   7.6   1.4   2.17\n",
              "510  6  5      8    5  91.0  166.9  752.6   7.1  18.2  62   5.4   0.0   0.43\n",
              "512  4  3      8    7  81.6   56.7  665.6   1.9  27.8  32   2.7   0.0   6.44\n",
              "513  2  4      8    7  81.6   56.7  665.6   1.9  21.9  71   5.8   0.0  54.29\n",
              "514  7  4      8    7  81.6   56.7  665.6   1.9  21.2  70   6.7   0.0  11.16\n",
              "\n",
              "[270 rows x 13 columns]"
            ]
          },
          "metadata": {
            "tags": []
          },
          "execution_count": 23
        }
      ]
    },
    {
      "cell_type": "code",
      "metadata": {
        "id": "Er1owpzOxSyl",
        "colab": {
          "base_uri": "https://localhost:8080/",
          "height": 535
        },
        "outputId": "cca39bed-b1fd-4bcd-8bbf-81699e982e01"
      },
      "source": [
        "areaburnt.groupby('day')['area'].agg('count').plot(kind='pie',title='daily analysis of burnt area',figsize=(9,9),explode=[0,0,0,0,0,0,0],autopct='%0.1f%%')\n",
        "plt.show()"
      ],
      "execution_count": null,
      "outputs": [
        {
          "output_type": "display_data",
          "data": {
            "image/png": "[encoded data removed]",
            "text/plain": [
              "<Figure size 648x648 with 1 Axes>"
            ]
          },
          "metadata": {
            "tags": []
          }
        }
      ]
    },
    {
      "cell_type": "code",
      "metadata": {
        "id": "k4i5OK58xUja",
        "colab": {
          "base_uri": "https://localhost:8080/",
          "height": 535
        },
        "outputId": "ea53b20c-dbd0-422c-af94-dfc4b14a7c18"
      },
      "source": [
        "areaburnt.groupby('month')['area'].agg('count').plot(kind='pie',title='Monthly analysis of burnt area',figsize=(9,9),explode=[0,0.1,0,0,0,0,0,0,0,0],autopct='%0.1f%%')\n",
        "plt.show()"
      ],
      "execution_count": null,
      "outputs": [
        {
          "output_type": "display_data",
          "data": {
            "image/png": "[encoded data removed]",
            "text/plain": [
              "<Figure size 648x648 with 1 Axes>"
            ]
          },
          "metadata": {
            "tags": []
          }
        }
      ]
    },
    {
      "cell_type": "markdown",
      "metadata": {
        "id": "AQhMTCmBzmJ7"
      },
      "source": [
        "Observations:\n",
        "\n",
        "1. It is interesting to see that abnormally high number of the forest fires occur in the month of August and September amd least in Nov.\n",
        "\n",
        "2. In the case of day, the days saturday - sunday have higher proportion of cases. (However, no strong indicators)"
      ]
    },
    {
      "cell_type": "markdown",
      "metadata": {
        "id": "evrIfu374y9m"
      },
      "source": [
        "#Checking for outliers"
      ]
    },
    {
      "cell_type": "code",
      "metadata": {
        "id": "w3tltZLd4BS7",
        "colab": {
          "base_uri": "https://localhost:8080/",
          "height": 414
        },
        "outputId": "689695d1-fcf4-47f9-91dd-30a14cb4a301"
      },
      "source": [
        "target = 'area' \n",
        "outl_dect = sns.boxplot(df[target])"
      ],
      "execution_count": null,
      "outputs": [
        {
          "output_type": "stream",
          "text": [
            "/usr/local/lib/python3.6/dist-packages/seaborn/_decorators.py:43: FutureWarning: Pass the following variable as a keyword arg: x. From version 0.12, the only valid positional argument will be `data`, and passing other arguments without an explicit keyword will result in an error or misinterpretation.\n",
            "  FutureWarning\n"
          ],
          "name": "stderr"
        },
        {
          "output_type": "display_data",
          "data": {
            "image/png": "[encoded data removed]",
            "text/plain": [
              "<Figure size 576x396 with 1 Axes>"
            ]
          },
          "metadata": {
            "tags": []
          }
        }
      ]
    },
    {
      "cell_type": "code",
      "metadata": {
        "id": "dEqlqxAN42Cq",
        "colab": {
          "base_uri": "https://localhost:8080/",
          "height": 414
        },
        "outputId": "cdd5caf6-fc09-455d-8e73-e84d32416ffe"
      },
      "source": [
        "outl_dect = sns.boxplot(df['FFMC'])"
      ],
      "execution_count": null,
      "outputs": [
        {
          "output_type": "stream",
          "text": [
            "/usr/local/lib/python3.6/dist-packages/seaborn/_decorators.py:43: FutureWarning: Pass the following variable as a keyword arg: x. From version 0.12, the only valid positional argument will be `data`, and passing other arguments without an explicit keyword will result in an error or misinterpretation.\n",
            "  FutureWarning\n"
          ],
          "name": "stderr"
        },
        {
          "output_type": "display_data",
          "data": {
            "image/png": "[encoded data removed]",
            "text/plain": [
              "<Figure size 576x396 with 1 Axes>"
            ]
          },
          "metadata": {
            "tags": []
          }
        }
      ]
    },
    {
      "cell_type": "code",
      "metadata": {
        "id": "qxWIOJNjCOuw",
        "colab": {
          "base_uri": "https://localhost:8080/",
          "height": 414
        },
        "outputId": "38cf00a5-5cc8-40d4-cf48-c93b243fc06a"
      },
      "source": [
        "outl_dect = sns.boxplot(df['ISI'])"
      ],
      "execution_count": null,
      "outputs": [
        {
          "output_type": "stream",
          "text": [
            "/usr/local/lib/python3.6/dist-packages/seaborn/_decorators.py:43: FutureWarning: Pass the following variable as a keyword arg: x. From version 0.12, the only valid positional argument will be `data`, and passing other arguments without an explicit keyword will result in an error or misinterpretation.\n",
            "  FutureWarning\n"
          ],
          "name": "stderr"
        },
        {
          "output_type": "display_data",
          "data": {
            "image/png": "[encoded data removed]",
            "text/plain": [
              "<Figure size 576x396 with 1 Axes>"
            ]
          },
          "metadata": {
            "tags": []
          }
        }
      ]
    },
    {
      "cell_type": "code",
      "metadata": {
        "id": "C103dRbwCO9U",
        "colab": {
          "base_uri": "https://localhost:8080/",
          "height": 414
        },
        "outputId": "8cb75aad-7e13-48f6-94d9-59ffa8427089"
      },
      "source": [
        "outl_dect = sns.boxplot(df['rain'])"
      ],
      "execution_count": null,
      "outputs": [
        {
          "output_type": "stream",
          "text": [
            "/usr/local/lib/python3.6/dist-packages/seaborn/_decorators.py:43: FutureWarning: Pass the following variable as a keyword arg: x. From version 0.12, the only valid positional argument will be `data`, and passing other arguments without an explicit keyword will result in an error or misinterpretation.\n",
            "  FutureWarning\n"
          ],
          "name": "stderr"
        },
        {
          "output_type": "display_data",
          "data": {
            "image/png": "[encoded data removed]",
            "text/plain": [
              "<Figure size 576x396 with 1 Axes>"
            ]
          },
          "metadata": {
            "tags": []
          }
        }
      ]
    },
    {
      "cell_type": "markdown",
      "metadata": {
        "id": "bNrQuBWcCbTK"
      },
      "source": [
        "Outlier analysis\n",
        "Outliers are found in the following columns:\n",
        "\n",
        "1. area\n",
        "2. FFMC\n",
        "3. ISI\n",
        "4. rain"
      ]
    },
    {
      "cell_type": "markdown",
      "metadata": {
        "id": "0w50w6KaCjGV"
      },
      "source": [
        "Instead of removing them we will transform the data to treat the outliers."
      ]
    },
    {
      "cell_type": "code",
      "metadata": {
        "id": "KBqttKryCYQV"
      },
      "source": [
        "outlier_columns = ['area','FFMC','ISI','rain']"
      ],
      "execution_count": null,
      "outputs": []
    },
    {
      "cell_type": "code",
      "metadata": {
        "id": "lUIB_09XClnZ",
        "colab": {
          "base_uri": "https://localhost:8080/"
        },
        "outputId": "8176092f-f339-4b48-f9ab-37fe25c496d7"
      },
      "source": [
        "np.log1p(df[outlier_columns]).skew()"
      ],
      "execution_count": null,
      "outputs": [
        {
          "output_type": "execute_result",
          "data": {
            "text/plain": [
              "area     1.217838\n",
              "FFMC   -11.675394\n",
              "ISI     -0.937218\n",
              "rain    14.173028\n",
              "dtype: float64"
            ]
          },
          "metadata": {
            "tags": []
          },
          "execution_count": 32
        }
      ]
    },
    {
      "cell_type": "code",
      "metadata": {
        "id": "QwDNxiJgCny8",
        "colab": {
          "base_uri": "https://localhost:8080/"
        },
        "outputId": "be84a2c6-b9fe-4f50-fffb-2306b056fdb5"
      },
      "source": [
        "np.log1p(df[outlier_columns]).kurtosis()"
      ],
      "execution_count": null,
      "outputs": [
        {
          "output_type": "execute_result",
          "data": {
            "text/plain": [
              "area      0.945668\n",
              "FFMC    185.482383\n",
              "ISI       2.584588\n",
              "rain    234.240025\n",
              "dtype: float64"
            ]
          },
          "metadata": {
            "tags": []
          },
          "execution_count": 33
        }
      ]
    },
    {
      "cell_type": "markdown",
      "metadata": {
        "id": "pxHgFrVyCxnV"
      },
      "source": [
        "Even after transformation we still have high skewness and kurtosis in FFMC & rain"
      ]
    },
    {
      "cell_type": "markdown",
      "metadata": {
        "id": "3mxSC5-HEIXY"
      },
      "source": [
        "Removing outliers by zscore method"
      ]
    },
    {
      "cell_type": "code",
      "metadata": {
        "id": "tZEa2sR_Cu2c"
      },
      "source": [
        "mask = df.loc[:,['FFMC']].apply(zscore).abs() < 3"
      ],
      "execution_count": null,
      "outputs": []
    },
    {
      "cell_type": "code",
      "metadata": {
        "id": "gPH1jFCjEOCG",
        "colab": {
          "base_uri": "https://localhost:8080/"
        },
        "outputId": "9e41aef2-b9e0-4afb-cbd2-069b79aa1c7c"
      },
      "source": [
        "df = df[mask.values]\n",
        "df.shape"
      ],
      "execution_count": null,
      "outputs": [
        {
          "output_type": "execute_result",
          "data": {
            "text/plain": [
              "(510, 13)"
            ]
          },
          "metadata": {
            "tags": []
          },
          "execution_count": 35
        }
      ]
    },
    {
      "cell_type": "markdown",
      "metadata": {
        "id": "8e1HgdaVbSVF"
      },
      "source": [
        "#Using standard scaler and splitting the dataset "
      ]
    },
    {
      "cell_type": "code",
      "metadata": {
        "id": "HTmS98eafGPf"
      },
      "source": [
        "df2 = df.copy()\n",
        "\n",
        "scaler = StandardScaler()\n",
        "\n",
        "dataset = df2.values\n",
        "X = dataset[:,0:12] #12 features of the dataset \n",
        "y = dataset[:,12] #the target which is the area\n",
        "\n",
        "X_train, X_test, y_train, y_test = train_test_split( X, y, test_size=0.20, random_state=42) #splitting the dataset into trainig and testing sets\n",
        "\n",
        "#applying the scaling on the (X) dataset \n",
        "X_train = scaler.fit_transform(X_train) \n",
        "X_test = scaler.transform(X_test)"
      ],
      "execution_count": null,
      "outputs": []
    },
    {
      "cell_type": "markdown",
      "metadata": {
        "id": "I6CJByKUbGYZ"
      },
      "source": [
        "# **Results before PCA**"
      ]
    },
    {
      "cell_type": "code",
      "metadata": {
        "id": "oZcVVCYmbgOp"
      },
      "source": [
        "def Reg_model_(X_train1, X_test1, y_train1, y_test1, reg):\n",
        "  name_reg , model_reg = reg\n",
        "\n",
        "\n",
        "  model_reg.fit(X_train1, y_train1)\n",
        "\n",
        "  y_pred_test = model_reg.predict(X_test1)\n",
        "\n",
        "  #Evaluate the model\n",
        " \n",
        "  mse = metrics.mean_squared_error(y_test1, y_pred_test)\n",
        "  mae = mean_absolute_error(y_pred_test, y_test1)\n",
        "  r2 = metrics.r2_score(y_test1, y_pred_test)\n",
        "  #r1 = model.score(X_test,y_test)\n",
        "  print(name_reg+' performance: ')\n",
        "  print(\"--------------------------------------\")\n",
        "  print('Mean absolute error is {}'.format(mae))\n",
        "  print('Mean Squared error is {}'.format(mse))\n",
        "  print('R2 score is {}'.format(r2)) \n",
        "  return model_reg\n",
        "\n",
        "#The coefficient R^2 is defined as ( 1- (u/v) ),where (u) is \n",
        "#the residual sum of squares ((y_true - y_pred) ** 2).sum() and (v) is the total sum of squares ((y_true - y_true.mean()) ** 2).sum()\n",
        "\n"
      ],
      "execution_count": null,
      "outputs": []
    },
    {
      "cell_type": "code",
      "metadata": {
        "colab": {
          "base_uri": "https://localhost:8080/"
        },
        "id": "mzubCflVbunt",
        "outputId": "17ceb1c1-0181-4fc4-a245-bb7e70bfc167"
      },
      "source": [
        "regressor_linear = Reg_model_(X_train, X_test, y_train, y_test,('Linear Regression', LinearRegression()))  #Linear regression performance on the dataset before applying PCA"
      ],
      "execution_count": null,
      "outputs": [
        {
          "output_type": "stream",
          "text": [
            "Linear Regression performance: \n",
            "--------------------------------------\n",
            "Mean absolute error is 21.843976038941545\n",
            "Mean Squared error is 5412.0562876219265\n",
            "R2 score is 0.021740010207839666\n"
          ],
          "name": "stdout"
        }
      ]
    },
    {
      "cell_type": "code",
      "metadata": {
        "colab": {
          "base_uri": "https://localhost:8080/"
        },
        "id": "exi9ZM9-cNVY",
        "outputId": "dea265e0-4565-4aa7-ec00-152213bdb42b"
      },
      "source": [
        "#Multi-layer Perceptron regression performance on the dataset before applying PCA\n",
        "\n",
        "regressor_nn = Reg_model_(X_train, X_test, y_train, y_test,(\"Multi-layer Perceptron regressor\",MLPRegressor(hidden_layer_sizes=(16, 16))))"
      ],
      "execution_count": null,
      "outputs": [
        {
          "output_type": "stream",
          "text": [
            "Multi-layer Perceptron regressor performance: \n",
            "--------------------------------------\n",
            "Mean absolute error is 18.98383371485508\n",
            "Mean Squared error is 5396.569692236739\n",
            "R2 score is 0.024539300503115924\n"
          ],
          "name": "stdout"
        },
        {
          "output_type": "stream",
          "text": [
            "/usr/local/lib/python3.6/dist-packages/sklearn/neural_network/_multilayer_perceptron.py:571: ConvergenceWarning: Stochastic Optimizer: Maximum iterations (200) reached and the optimization hasn't converged yet.\n",
            "  % self.max_iter, ConvergenceWarning)\n"
          ],
          "name": "stderr"
        }
      ]
    },
    {
      "cell_type": "code",
      "metadata": {
        "id": "Ow1-3h6Fchfz"
      },
      "source": [
        "#A function for evaluating classification models \n",
        "def class_model_(X_train2, X_test2, y_train2, y_test2, c):\n",
        "  name , model = c\n",
        "  y_train2[y_train2 > 0] = 1\n",
        "  y_test2[y_test2 > 0] = 1\n",
        "  \n",
        "  model.fit(X_train2, y_train2)\n",
        "  y_pred_test1 = model.predict(X_test2)\n",
        "\n",
        "  score = model.score(X_test2, y_test2) * 100\n",
        "  print(name+ \" Accuracy: {:.2f}%\".format(score))\n",
        "  return model"
      ],
      "execution_count": null,
      "outputs": []
    },
    {
      "cell_type": "code",
      "metadata": {
        "colab": {
          "base_uri": "https://localhost:8080/"
        },
        "id": "IQQdFSQCchKE",
        "outputId": "9e8965b6-de50-480d-d699-217d9a28cd7e"
      },
      "source": [
        "#Logistic regression performance on the dataset before applying PCA\n",
        "classifier_log = class_model_(X_train, X_test, y_train, y_test,(\"Logistic Regression\",LogisticRegression()))"
      ],
      "execution_count": null,
      "outputs": [
        {
          "output_type": "stream",
          "text": [
            "Logistic Regression Accuracy: 55.88%\n"
          ],
          "name": "stdout"
        }
      ]
    },
    {
      "cell_type": "code",
      "metadata": {
        "colab": {
          "base_uri": "https://localhost:8080/"
        },
        "id": "jopjLbHxcs1R",
        "outputId": "599057cc-64dc-4f1b-c776-827b35eb25b4"
      },
      "source": [
        "#Multi-layer Perceptron classifier performance on the dataset before applying PCA\n",
        "\n",
        "classifier_nn = class_model_(X_train, X_test, y_train, y_test, (\"MLP classifier\",MLPClassifier(hidden_layer_sizes=(16, 16))))"
      ],
      "execution_count": null,
      "outputs": [
        {
          "output_type": "stream",
          "text": [
            "MLP classifier Accuracy: 57.84%\n"
          ],
          "name": "stdout"
        },
        {
          "output_type": "stream",
          "text": [
            "/usr/local/lib/python3.6/dist-packages/sklearn/neural_network/_multilayer_perceptron.py:571: ConvergenceWarning: Stochastic Optimizer: Maximum iterations (200) reached and the optimization hasn't converged yet.\n",
            "  % self.max_iter, ConvergenceWarning)\n"
          ],
          "name": "stderr"
        }
      ]
    },
    {
      "cell_type": "markdown",
      "metadata": {
        "id": "wkEi2oCje35H"
      },
      "source": [
        "# **PCA**"
      ]
    },
    {
      "cell_type": "code",
      "metadata": {
        "id": "fC-7SE3Le3Ao",
        "colab": {
          "base_uri": "https://localhost:8080/",
          "height": 378
        },
        "outputId": "acafdefc-6bf5-4e5f-a18f-068dbc7c1efc"
      },
      "source": [
        "#looking at the cumulative explained variance ratio as a function of the number of components\n",
        "pca = PCA().fit(df2)\n",
        "\n",
        "plt.plot(np.cumsum(pca.explained_variance_ratio_))\n",
        "plt.xlabel('number of components')\n",
        "plt.ylabel('cumulative explained variance')\n",
        "\n",
        "##cumulative exp var is approxiametly 100% when no. of PCA components is 3\n"
      ],
      "execution_count": null,
      "outputs": [
        {
          "output_type": "execute_result",
          "data": {
            "text/plain": [
              "Text(0, 0.5, 'cumulative explained variance')"
            ]
          },
          "metadata": {
            "tags": []
          },
          "execution_count": 43
        },
        {
          "output_type": "display_data",
          "data": {
            "image/png": "[encoded data removed]",
            "text/plain": [
              "<Figure size 576x396 with 1 Axes>"
            ]
          },
          "metadata": {
            "tags": []
          }
        }
      ]
    },
    {
      "cell_type": "code",
      "metadata": {
        "id": "_ohaCaDzfZXT"
      },
      "source": [
        "pca_ = PCA(n_components=3)\n",
        "\n",
        "#Transforming x_train and x_test \n",
        "X_train_pca = pca_.fit_transform(X_train)\n",
        "\n",
        "X_test_pca = pca_.transform(X_test)\n"
      ],
      "execution_count": null,
      "outputs": []
    },
    {
      "cell_type": "markdown",
      "metadata": {
        "id": "sn6Mgx-kAVdg"
      },
      "source": [
        "# **Results after PCA**"
      ]
    },
    {
      "cell_type": "markdown",
      "metadata": {
        "id": "6DwNNeO_UwCp"
      },
      "source": [
        "# *Regression* "
      ]
    },
    {
      "cell_type": "markdown",
      "metadata": {
        "id": "KJbBAqMz29M3"
      },
      "source": [
        "# Linear Regression"
      ]
    },
    {
      "cell_type": "code",
      "metadata": {
        "id": "VREHfHIq5BRg",
        "colab": {
          "base_uri": "https://localhost:8080/"
        },
        "outputId": "19bf950f-fc81-479c-fd38-7ad578144697"
      },
      "source": [
        "\n",
        "regressor_linear_pca = Reg_model_(X_train_pca, X_test_pca, y_train, y_test, ('Linear Regression', LinearRegression()))\n"
      ],
      "execution_count": null,
      "outputs": [
        {
          "output_type": "stream",
          "text": [
            "Linear Regression performance: \n",
            "--------------------------------------\n",
            "Mean absolute error is 0.4934948865031479\n",
            "Mean Squared error is 0.24797294326038463\n",
            "R2 score is 0.0077267301226762175\n"
          ],
          "name": "stdout"
        }
      ]
    },
    {
      "cell_type": "markdown",
      "metadata": {
        "id": "AJM_JDBLifrO"
      },
      "source": [
        "# MLP Regressor"
      ]
    },
    {
      "cell_type": "code",
      "metadata": {
        "id": "YJKdb5U7igWa",
        "colab": {
          "base_uri": "https://localhost:8080/"
        },
        "outputId": "d47ac245-5d09-4905-f563-1cfe4b028aaa"
      },
      "source": [
        "regressor_nn_pca = Reg_model_(X_train_pca, X_test_pca, y_train, y_test,(\"NN Regression\", MLPRegressor(hidden_layer_sizes=(15, 30))))"
      ],
      "execution_count": null,
      "outputs": [
        {
          "output_type": "stream",
          "text": [
            "NN Regression performance: \n",
            "--------------------------------------\n",
            "Mean absolute error is 0.5065894834558649\n",
            "Mean Squared error is 0.26984273233166495\n",
            "R2 score is -0.07978607199178533\n"
          ],
          "name": "stdout"
        }
      ]
    },
    {
      "cell_type": "markdown",
      "metadata": {
        "id": "oNvgYbDbVwP3"
      },
      "source": [
        "# Classification "
      ]
    },
    {
      "cell_type": "markdown",
      "metadata": {
        "id": "2biFxwo6h_nT"
      },
      "source": [
        "# Logistic Regression"
      ]
    },
    {
      "cell_type": "code",
      "metadata": {
        "id": "BIyrZf6QXc2H",
        "colab": {
          "base_uri": "https://localhost:8080/"
        },
        "outputId": "aaa4c4b3-f56c-4a2c-f790-05fc1def788d"
      },
      "source": [
        "#Logistic regression model after applying PCA with three components only \n",
        "classifier_log_pca = class_model_(X_train_pca, X_test_pca, y_train, y_test,(\"Logistic Regression\",LogisticRegression()))"
      ],
      "execution_count": null,
      "outputs": [
        {
          "output_type": "stream",
          "text": [
            "Logistic Regression Accuracy: 53.92%\n"
          ],
          "name": "stdout"
        }
      ]
    },
    {
      "cell_type": "markdown",
      "metadata": {
        "id": "Cc-gj5BziEk4"
      },
      "source": [
        "# MLP Classifier"
      ]
    },
    {
      "cell_type": "code",
      "metadata": {
        "id": "DewT13-hFzG9",
        "colab": {
          "base_uri": "https://localhost:8080/"
        },
        "outputId": "a4f61734-de56-4385-a925-6f35257a5a69"
      },
      "source": [
        "#Multi-layer perceptron model after applying PCA with three components only \n",
        "classifier_nn_pca = class_model_(X_train_pca, X_test_pca, y_train, y_test,(\"MLP classifier\",MLPClassifier(hidden_layer_sizes=(16, 16))))"
      ],
      "execution_count": null,
      "outputs": [
        {
          "output_type": "stream",
          "text": [
            "MLP classifier Accuracy: 55.88%\n"
          ],
          "name": "stdout"
        }
      ]
    },
    {
      "cell_type": "markdown",
      "metadata": {
        "id": "gHPjuEzMyGhA"
      },
      "source": [
        "# **Prediction** using classifier and regressor "
      ]
    },
    {
      "cell_type": "code",
      "metadata": {
        "id": "v6Vh-b-8yNxd"
      },
      "source": [
        "# Predict the data if it's zero or one using neural network classifier \n",
        "y_pred_class = classifier_nn.predict(X_test) "
      ],
      "execution_count": null,
      "outputs": []
    },
    {
      "cell_type": "code",
      "metadata": {
        "id": "1iFBG6nA_AO1"
      },
      "source": [
        "#filtering the data that had fires and predict using neural network regressor \n",
        "X_test_reg = X_test[y_pred_class == 1]\n",
        "y_pred_reg = regressor_nn.predict(X_test_reg) "
      ],
      "execution_count": null,
      "outputs": []
    },
    {
      "cell_type": "code",
      "metadata": {
        "id": "65FXUb4xArVx"
      },
      "source": [
        "#predicting the data that had fire \n",
        "y_pred_class[y_pred_class==1] = y_pred_reg\n",
        "y_final = y_pred_class"
      ],
      "execution_count": null,
      "outputs": []
    },
    {
      "cell_type": "code",
      "metadata": {
        "colab": {
          "base_uri": "https://localhost:8080/"
        },
        "id": "Ps4bH36GBJqo",
        "outputId": "73f404f3-8d2f-4cd3-ba2a-108271a3ab15"
      },
      "source": [
        "#the mean squared error of the final predictions using classifier and regressor\n",
        "y_final\n",
        "metrics.mean_squared_error(y_test, y_final)"
      ],
      "execution_count": null,
      "outputs": [
        {
          "output_type": "execute_result",
          "data": {
            "text/plain": [
              "155.06167301320454"
            ]
          },
          "metadata": {
            "tags": []
          },
          "execution_count": 132
        }
      ]
    },
    {
      "cell_type": "code",
      "metadata": {
        "id": "kcEoNA86BMjO"
      },
      "source": [
        ""
      ],
      "execution_count": null,
      "outputs": []
    }
  ]
}